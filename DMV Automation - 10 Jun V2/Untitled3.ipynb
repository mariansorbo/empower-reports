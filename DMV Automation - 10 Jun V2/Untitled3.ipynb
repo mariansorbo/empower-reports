{
 "cells": [
  {
   "cell_type": "code",
   "execution_count": 2,
   "id": "366d859e-e436-4281-8cf7-76edf290643a",
   "metadata": {},
   "outputs": [
    {
     "name": "stderr",
     "output_type": "stream",
     "text": [
      "[NbConvertApp] Converting notebook C:\\Users\\Mariano\\Documents\\DMV Automation - 10 Jun\\One_new.ipynb to script\n",
      "[NbConvertApp] Writing 13562 bytes to C:\\Users\\Mariano\\Documents\\DMV Automation - 10 Jun\\One_new.py\n"
     ]
    }
   ],
   "source": [
    "!jupyter nbconvert --to script \"C:\\Users\\Mariano\\Documents\\DMV Automation - 10 Jun\\One_new.ipynb\"\n",
    "\n"
   ]
  },
  {
   "cell_type": "code",
   "execution_count": null,
   "id": "35600341-a585-4260-a091-a2f2c432a492",
   "metadata": {},
   "outputs": [],
   "source": []
  }
 ],
 "metadata": {
  "kernelspec": {
   "display_name": "Python 3 (ipykernel)",
   "language": "python",
   "name": "python3"
  },
  "language_info": {
   "codemirror_mode": {
    "name": "ipython",
    "version": 3
   },
   "file_extension": ".py",
   "mimetype": "text/x-python",
   "name": "python",
   "nbconvert_exporter": "python",
   "pygments_lexer": "ipython3",
   "version": "3.13.5"
  }
 },
 "nbformat": 4,
 "nbformat_minor": 5
}
