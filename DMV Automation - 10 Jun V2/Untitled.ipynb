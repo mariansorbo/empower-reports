{
 "cells": [
  {
   "cell_type": "code",
   "execution_count": null,
   "id": "5bd419f5",
   "metadata": {},
   "outputs": [],
   "source": [
    "# Celda 1: Detectar y encolar sólo el nombre del .pbit\n",
    "import time\n",
    "import os\n",
    "import config\n",
    "import config_runtime\n",
    "from watchdog.observers import Observer\n",
    "from watchdog.events import FileSystemEventHandler\n",
    "from main import save_config_runtime, safe_print\n",
    "\n",
    "class PbitHandler(FileSystemEventHandler):\n",
    "    def on_created(self, event):\n",
    "        if event.is_directory or not event.src_path.lower().endswith(\".pbit\"):\n",
    "            return\n",
    "        nombre = os.path.basename(event.src_path)\n",
    "        if nombre in config_runtime.pbit_queue:\n",
    "            return  # ya está en la cola\n",
    "        config_runtime.pbit_queue.append(nombre)\n",
    "        save_config_runtime()\n",
    "        safe_print(f\"📑 Cola actualizada: {config_runtime.pbit_queue}\")\n",
    "\n",
    "watch_folder = config.base_report_directory\n",
    "observer = Observer()\n",
    "observer.schedule(PbitHandler(), path=watch_folder, recursive=False)\n",
    "observer.start()\n",
    "safe_print(f\"👀 Observando carpeta: {watch_folder} (Ctrl+C para parar)\")\n",
    "\n",
    "try:\n",
    "    while True:\n",
    "        time.sleep(1)\n",
    "except KeyboardInterrupt:\n",
    "    observer.stop()\n",
    "observer.join()\n"
   ]
  }
 ],
 "metadata": {
  "kernelspec": {
   "display_name": "Python 3 (ipykernel)",
   "language": "python",
   "name": "python3"
  },
  "language_info": {
   "codemirror_mode": {
    "name": "ipython",
    "version": 3
   },
   "file_extension": ".py",
   "mimetype": "text/x-python",
   "name": "python",
   "nbconvert_exporter": "python",
   "pygments_lexer": "ipython3",
   "version": "3.11.5"
  }
 },
 "nbformat": 4,
 "nbformat_minor": 5
}
