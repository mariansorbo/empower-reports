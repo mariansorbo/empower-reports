{
 "cells": [
  {
   "cell_type": "code",
   "execution_count": 1,
   "id": "db10afdc",
   "metadata": {},
   "outputs": [],
   "source": [
    "import time\n",
    "import sys\n",
    "import os\n",
    "import config\n",
    "import config_runtime\n",
    "import subprocess\n",
    "from watchdog.observers import Observer\n",
    "from watchdog.events import FileSystemEventHandler"
   ]
  },
  {
   "cell_type": "code",
   "execution_count": 2,
   "id": "25e86d03",
   "metadata": {},
   "outputs": [],
   "source": [
    "# — Asegurar UTF-8 en stdout —\n",
    "if hasattr(sys.stdout, \"reconfigure\"):\n",
    "    sys.stdout.reconfigure(encoding=\"utf-8\", errors=\"replace\")\n",
    "\n",
    "def safe_print(text):\n",
    "    \"\"\"Imprime sin romper con caracteres Unicode.\"\"\"\n",
    "    try:\n",
    "        print(text)\n",
    "    except UnicodeEncodeError:\n",
    "        enc = sys.stdout.encoding or \"utf-8\"\n",
    "        fixed = text.encode(enc, errors=\"replace\").decode(enc)\n",
    "        print(fixed)\n",
    "\n",
    "def ejecutar_script(path):\n",
    "    \"\"\"Lanza un script Python y captura stdout/stderr.\"\"\"\n",
    "    safe_print(f\"\\n🚀 Ejecutando: {path}\")\n",
    "    env = os.environ.copy()\n",
    "    env[\"PYTHONIOENCODING\"] = \"utf-8\"\n",
    "    result = subprocess.run(\n",
    "        [\"python\", path],\n",
    "        env=env,\n",
    "        capture_output=True,\n",
    "        text=True\n",
    "    )\n",
    "    if result.returncode == 0:\n",
    "        safe_print(\"✅ Script OK\")\n",
    "    else:\n",
    "        safe_print(f\"⚠️ Exit code {result.returncode}\")\n",
    "    safe_print(\"🔹 STDOUT:\")\n",
    "    safe_print(result.stdout)\n",
    "    safe_print(\"🔸 STDERR:\")\n",
    "    safe_print(result.stderr)\n",
    "\n",
    "def save_config_runtime():\n",
    "    lines = [\n",
    "        f\"usuario = {config_runtime.usuario!r}\\n\",\n",
    "        f\"reporte = {config_runtime.reporte!r}\\n\",\n",
    "        f\"pbit_queue = {config_runtime.pbit_queue!r}\\n\",\n",
    "    ]\n",
    "    with open(\"config_runtime.py\", \"w\", encoding=\"utf-8\") as f:\n",
    "        f.writelines(lines)\n",
    "\n",
    "class PbitHandler(FileSystemEventHandler):\n",
    "    def on_created(self, event):\n",
    "        if event.is_directory or not event.src_path.lower().endswith(\".pbit\"):\n",
    "            return\n",
    "        config_runtime.pbit_queue.append(event.src_path)\n",
    "        save_config_runtime()\n",
    "        print(f\"📑 Cola actualizada: {config_runtime.pbit_queue}\")"
   ]
  },
  {
   "cell_type": "code",
   "execution_count": null,
   "id": "ed5730a2",
   "metadata": {},
   "outputs": [
    {
     "name": "stdout",
     "output_type": "stream",
     "text": [
      "👀 Observando carpeta: C:\\Users\\Administrator\\DMV Automation - 10 Jun\\Input - Reportes (Ctrl+C para parar)\n",
      "📑 Cola actualizada: ['C:\\\\Users\\\\Administrator\\\\DMV Automation - 10 Jun\\\\Input - Reportes\\\\testUser + Empower BI V3 - Copy (2).pbit']\n",
      "📑 Cola actualizada: ['C:\\\\Users\\\\Administrator\\\\DMV Automation - 10 Jun\\\\Input - Reportes\\\\testUser + Empower BI V3 - Copy (2).pbit', 'C:\\\\Users\\\\Administrator\\\\DMV Automation - 10 Jun\\\\Input - Reportes\\\\testUser + Empower BI V3 - Copy - Copy - Copy - Copy.pbit']\n",
      "📑 Cola actualizada: ['C:\\\\Users\\\\Administrator\\\\DMV Automation - 10 Jun\\\\Input - Reportes\\\\testUser + Empower BI V3 - Copy (2).pbit', 'C:\\\\Users\\\\Administrator\\\\DMV Automation - 10 Jun\\\\Input - Reportes\\\\testUser + Empower BI V3 - Copy - Copy - Copy - Copy.pbit', 'C:\\\\Users\\\\Administrator\\\\DMV Automation - 10 Jun\\\\Input - Reportes\\\\testUser + Empower BI V3 - Copy - Copy - Copy (2).pbit']\n",
      "📑 Cola actualizada: ['C:\\\\Users\\\\Administrator\\\\DMV Automation - 10 Jun\\\\Input - Reportes\\\\testUser + Empower BI V3 - Copy (2).pbit', 'C:\\\\Users\\\\Administrator\\\\DMV Automation - 10 Jun\\\\Input - Reportes\\\\testUser + Empower BI V3 - Copy - Copy - Copy - Copy.pbit', 'C:\\\\Users\\\\Administrator\\\\DMV Automation - 10 Jun\\\\Input - Reportes\\\\testUser + Empower BI V3 - Copy - Copy - Copy (2).pbit', 'C:\\\\Users\\\\Administrator\\\\DMV Automation - 10 Jun\\\\Input - Reportes\\\\testUser + Empower BI V3 - Copy - Copy (2).pbit']\n"
     ]
    }
   ],
   "source": [
    "# Celda 1: Detectar y encolar .pbit\n",
    "watch_folder = config.base_report_directory\n",
    "observer = Observer()\n",
    "observer.schedule(PbitHandler(), path=watch_folder, recursive=False)\n",
    "observer.start()\n",
    "print(f\"👀 Observando carpeta: {watch_folder} (Ctrl+C para parar)\")\n",
    "try:\n",
    "    while True: time.sleep(1)\n",
    "except KeyboardInterrupt:\n",
    "    observer.stop()\n",
    "observer.join()\n"
   ]
  },
  {
   "cell_type": "code",
   "execution_count": null,
   "id": "f71ce3d0",
   "metadata": {},
   "outputs": [
    {
     "name": "stdout",
     "output_type": "stream",
     "text": [
      "\n",
      "🚀 Ejecutando: C:\\Users\\Administrator\\DMV Automation - 10 Jun\\One_Extraccion_DMVs_V3.py\n"
     ]
    }
   ],
   "source": [
    "\n",
    "# Celda 2: Para cada .pbit en cola → ejecutar Script 1 y Two_A\n",
    "\n",
    "for pbit in config_runtime.pbit_queue:\n",
    "    # Actualizar reporte\n",
    "    config_runtime.reporte = os.path.basename(pbit)\n",
    "    # Ejecutar extracción de DMVs (Script 1)\n",
    "    ejecutar_script(config.script_one_path)\n",
    "    # Ejecutar análisis de dependencias (Two_A)\n",
    "    ejecutar_script(config.script_two_a_path)\n"
   ]
  },
  {
   "cell_type": "code",
   "execution_count": null,
   "id": "371f45a2",
   "metadata": {},
   "outputs": [],
   "source": [
    "# Celda 3: Ejecutar consolidación (Two_B) UNA vez\n",
    "from main import ejecutar_script\n",
    "import config\n",
    "\n",
    "ejecutar_script(config.script_two_b_path)\n"
   ]
  },
  {
   "cell_type": "code",
   "execution_count": null,
   "id": "1c62f554",
   "metadata": {},
   "outputs": [],
   "source": [
    "# Celda 4: Ejecutar publicación (Three) UNA vez\n",
    "from main import ejecutar_script\n",
    "import config\n",
    "\n",
    "ejecutar_script(config.script_three_path)\n"
   ]
  },
  {
   "cell_type": "code",
   "execution_count": 1,
   "id": "39e12c8f",
   "metadata": {},
   "outputs": [
    {
     "name": "stdout",
     "output_type": "stream",
     "text": [
      "C:\\Users\\Administrator\\DMV Automation - 10 Jun\\Input - Reportes\\testUser + Empower BI V3 - Copy (2).pbit\n",
      "C:\\Users\\Administrator\\DMV Automation - 10 Jun\\Input - Reportes\\testUser + Empower BI V3 - Copy - Copy - Copy - Copy.pbit\n",
      "C:\\Users\\Administrator\\DMV Automation - 10 Jun\\Input - Reportes\\testUser + Empower BI V3 - Copy - Copy - Copy (2).pbit\n",
      "C:\\Users\\Administrator\\DMV Automation - 10 Jun\\Input - Reportes\\testUser + Empower BI V3 - Copy - Copy (2).pbit\n"
     ]
    }
   ],
   "source": [
    "import config_runtime\n",
    "for pbit in config_runtime.pbit_queue:\n",
    "    print(pbit)"
   ]
  },
  {
   "cell_type": "code",
   "execution_count": null,
   "id": "0bff56c1",
   "metadata": {},
   "outputs": [],
   "source": []
  }
 ],
 "metadata": {
  "kernelspec": {
   "display_name": "Python 3 (ipykernel)",
   "language": "python",
   "name": "python3"
  },
  "language_info": {
   "codemirror_mode": {
    "name": "ipython",
    "version": 3
   },
   "file_extension": ".py",
   "mimetype": "text/x-python",
   "name": "python",
   "nbconvert_exporter": "python",
   "pygments_lexer": "ipython3",
   "version": "3.11.5"
  }
 },
 "nbformat": 4,
 "nbformat_minor": 5
}
