{
 "cells": [
  {
   "cell_type": "code",
   "execution_count": 1,
   "id": "59e5eebb",
   "metadata": {},
   "outputs": [],
   "source": [
    "def estandarizar_y_unir(df_columnas, df_metricas):\n",
    "    import pandas as pd\n",
    "    # Renombrar columnas para que coincidan\n",
    "    df_col = df_columnas.rename(columns={\n",
    "        \"ExplicitName\": \"Name\",\n",
    "        \"Type\": \"DataType\"\n",
    "    })\n",
    "\n",
    "    # Agregar columnas faltantes en cada df para que ambos tengan los mismos campos\n",
    "    col_cols = {\"Reporte\",\"Name\", \"ID\", \"TableID\", \"DataType\", \"Expression\", \"IsHidden\", \"ModifiedTime\", \"StructureModifiedTime\", \"DisplayFolder\"}\n",
    "    df_col = df_col[[c for c in df_col.columns if c in col_cols]]\n",
    "    df_met = df_metricas[[c for c in df_metricas.columns if c in col_cols]]\n",
    "\n",
    "    # Agregar columna de origen\n",
    "    df_col[\"Origen\"] = \"Columnas\"\n",
    "    df_met[\"Origen\"] = \"Métricas\"\n",
    "\n",
    "    # Unir\n",
    "    df_merged = pd.concat([df_col, df_met], ignore_index=True)\n",
    "\n",
    "    return df_merged\n"
   ]
  },
  {
   "cell_type": "code",
   "execution_count": null,
   "id": "d3c88e48",
   "metadata": {},
   "outputs": [],
   "source": []
  },
  {
   "cell_type": "code",
   "execution_count": null,
   "id": "645fc07a",
   "metadata": {},
   "outputs": [],
   "source": []
  }
 ],
 "metadata": {
  "kernelspec": {
   "display_name": "Python 3 (ipykernel)",
   "language": "python",
   "name": "python3"
  },
  "language_info": {
   "codemirror_mode": {
    "name": "ipython",
    "version": 3
   },
   "file_extension": ".py",
   "mimetype": "text/x-python",
   "name": "python",
   "nbconvert_exporter": "python",
   "pygments_lexer": "ipython3",
   "version": "3.11.5"
  }
 },
 "nbformat": 4,
 "nbformat_minor": 5
}
